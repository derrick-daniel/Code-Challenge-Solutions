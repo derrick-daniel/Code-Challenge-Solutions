{
 "cells": [
  {
   "cell_type": "markdown",
   "metadata": {},
   "source": [
    "[Basketball One on One](https://open.kattis.com/problems/basketballoneonone)"
   ]
  },
  {
   "cell_type": "code",
   "execution_count": null,
   "metadata": {},
   "outputs": [],
   "source": [
    "def solution(game_record):\n",
    "    score_A, score_B = 0, 0\n",
    "    \n",
    "    for i in range(0, len(game_record), 2):\n",
    "        player = game_record[i]\n",
    "        score = int(game_record[i+1])\n",
    "        \n",
    "        if player == 'A':\n",
    "            score_A += score\n",
    "        else:\n",
    "            score_B += score\n",
    "        \n",
    "        if (score_A >= 11 or score_B >= 11) and abs(score_A - score_B) >= 2:\n",
    "            if score_A > score_B:\n",
    "                return \"A\"\n",
    "            else:\n",
    "                return \"B\"\n",
    "    \n",
    "    return score_A, score_B\n",
    "\n",
    "print(solution(input()))"
   ]
  },
  {
   "cell_type": "code",
   "execution_count": null,
   "metadata": {},
   "outputs": [],
   "source": [
    "# USACO Guide's Solution:\n",
    "#\n",
    "# - The second-to-last character always identifies the \n",
    "#    player who scored last.\n",
    "#\n",
    "# - The last score is what ends the game due to either \n",
    "#   reaching 11 points first or achieving a \"win by 2\"\n",
    "#   situation.\n",
    "\n",
    "print(input()[-2])"
   ]
  },
  {
   "cell_type": "markdown",
   "metadata": {},
   "source": [
    "[Weird Algorithm](https://cses.fi/problemset/task/1068)"
   ]
  },
  {
   "cell_type": "code",
   "execution_count": null,
   "metadata": {},
   "outputs": [],
   "source": [
    "import sys\n",
    "\n",
    "read = sys.stdin.readline\n",
    "write = sys.stdout.write\n",
    "\n",
    "n = int(read())\n",
    "\n",
    "write(str(n) + ' ')\n",
    "while n != 1:\n",
    "    if n%2 == 0: \n",
    "        n = n // 2 \n",
    "    else: \n",
    "        n = (n*3) + 1\n",
    "    write(str(n) + ' ')"
   ]
  }
 ],
 "metadata": {
  "language_info": {
   "name": "python"
  }
 },
 "nbformat": 4,
 "nbformat_minor": 2
}
