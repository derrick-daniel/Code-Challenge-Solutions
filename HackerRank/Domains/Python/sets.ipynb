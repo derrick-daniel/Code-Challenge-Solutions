{
 "cells": [
  {
   "cell_type": "markdown",
   "metadata": {},
   "source": [
    "### Introduction to Sets"
   ]
  },
  {
   "cell_type": "code",
   "execution_count": null,
   "metadata": {},
   "outputs": [],
   "source": [
    "input() # Not needed\n",
    "distinct_hts = set(map(int, input().split()))\n",
    "\n",
    "print(\"Average:\", sum(distinct_hts) / len(distinct_hts))"
   ]
  },
  {
   "cell_type": "markdown",
   "metadata": {},
   "source": [
    "### Symmetric Difference"
   ]
  },
  {
   "cell_type": "code",
   "execution_count": null,
   "metadata": {},
   "outputs": [],
   "source": [
    "input() # Not needed\n",
    "M = set(map(int, input().split()))\n",
    "input() # Not needed\n",
    "N = set(map(int, input().split()))\n",
    "\n",
    "sym_diff = M.union(N) - M.intersection(N)\n",
    "\n",
    "for n in sorted(sym_diff):\n",
    "    print(n)"
   ]
  },
  {
   "cell_type": "markdown",
   "metadata": {},
   "source": [
    "### No Idea!"
   ]
  },
  {
   "cell_type": "code",
   "execution_count": null,
   "metadata": {},
   "outputs": [],
   "source": [
    "input() # Not needed\n",
    "arr = list(map(int, input().split()))\n",
    "\n",
    "A = set(map(int, input().split()))\n",
    "B = set(map(int, input().split()))\n",
    "\n",
    "happiness = 0\n",
    "for ele in arr:\n",
    "    if ele in A:\n",
    "        happiness += 1\n",
    "    elif ele in B:\n",
    "        happiness -= 1\n",
    "\n",
    "print(happiness)"
   ]
  },
  {
   "cell_type": "markdown",
   "metadata": {},
   "source": [
    "### Set .add()"
   ]
  },
  {
   "cell_type": "code",
   "execution_count": null,
   "metadata": {},
   "outputs": [],
   "source": [
    "N = int(input())\n",
    "\n",
    "country_stamps = set()\n",
    "for _ in range(N):\n",
    "    country_stamps.add(input().strip())\n",
    "\n",
    "print(len(country_stamps))"
   ]
  },
  {
   "cell_type": "markdown",
   "metadata": {},
   "source": [
    "### Set .discard(), .remove() & .pop()"
   ]
  },
  {
   "cell_type": "code",
   "execution_count": null,
   "metadata": {},
   "outputs": [],
   "source": [
    "input() # Not needed\n",
    "s = set(map(int, input().split()))\n",
    "\n",
    "N = int(input())\n",
    "\n",
    "for _ in range(N):\n",
    "    cmd = input().split()\n",
    "    op = cmd[0]\n",
    "\n",
    "    if op == 'pop':\n",
    "        s.pop()\n",
    "    elif op == 'remove':\n",
    "        ele = int(cmd[1])\n",
    "        if ele in s:\n",
    "            s.remove(ele)\n",
    "    elif op == 'discard':\n",
    "        ele = int(cmd[1])\n",
    "        s.discard(ele)\n",
    "\n",
    "print(sum(s))"
   ]
  },
  {
   "cell_type": "markdown",
   "metadata": {},
   "source": [
    "### Set .union() Operation"
   ]
  },
  {
   "cell_type": "code",
   "execution_count": null,
   "metadata": {},
   "outputs": [],
   "source": [
    "input() # Not needed\n",
    "a = set(map(int, input().split()))\n",
    "input() # Not needed\n",
    "b = set(map(int, input().split()))\n",
    "\n",
    "print(len(a.union(b)))"
   ]
  },
  {
   "cell_type": "markdown",
   "metadata": {},
   "source": [
    "### Set .intersection() Operation"
   ]
  },
  {
   "cell_type": "code",
   "execution_count": null,
   "metadata": {},
   "outputs": [],
   "source": [
    "input() # Not needed\n",
    "a = set(map(int, input().split()))\n",
    "input() # Not needed\n",
    "b = set(map(int, input().split()))\n",
    "\n",
    "print(len(a.intersection(b)))"
   ]
  },
  {
   "cell_type": "markdown",
   "metadata": {},
   "source": [
    "### Set .difference() Operation"
   ]
  },
  {
   "cell_type": "code",
   "execution_count": null,
   "metadata": {},
   "outputs": [],
   "source": [
    "input() # Not needed\n",
    "a = set(map(int, input().split()))\n",
    "input() # Not needed\n",
    "b = set(map(int, input().split()))\n",
    "\n",
    "print(len(a.difference(b)))"
   ]
  },
  {
   "cell_type": "markdown",
   "metadata": {},
   "source": [
    "### Set .symmetric_difference() Operation"
   ]
  },
  {
   "cell_type": "code",
   "execution_count": null,
   "metadata": {},
   "outputs": [],
   "source": [
    "input() # Not needed\n",
    "a = set(map(int, input().split()))\n",
    "input() # Not needed\n",
    "b = set(map(int, input().split()))\n",
    "\n",
    "print(len(a.symmetric_difference(b)))"
   ]
  },
  {
   "cell_type": "markdown",
   "metadata": {},
   "source": [
    "### Set Mutations"
   ]
  },
  {
   "cell_type": "code",
   "execution_count": null,
   "metadata": {},
   "outputs": [],
   "source": [
    "input() # Not needed\n",
    "A = set(map(int, input().split()))\n",
    "\n",
    "N = int(input())\n",
    "\n",
    "for _ in range(N):\n",
    "    op = (input().split())[0]\n",
    "    S = set(map(int, input().split()))\n",
    "    \n",
    "    if op == 'update':\n",
    "        A.update(S)\n",
    "    elif op == 'intersection_update':\n",
    "        A.intersection_update(S)\n",
    "    elif op == 'difference_update':\n",
    "        A.difference_update(S)\n",
    "    elif op == 'symmetric_difference_update':\n",
    "        A.symmetric_difference_update(S)\n",
    "\n",
    "print(sum(A))"
   ]
  },
  {
   "cell_type": "markdown",
   "metadata": {},
   "source": [
    "### The Captain's Room"
   ]
  },
  {
   "cell_type": "code",
   "execution_count": null,
   "metadata": {},
   "outputs": [],
   "source": [
    "K = int(input())\n",
    "s_list = list(map(int, input().split())) \n",
    "#s_set = set(s_list)\n",
    "\n",
    "s_dict = dict()\n",
    "for i in s_list:\n",
    "    if i not in s_dict:\n",
    "        s_dict[i] = 1\n",
    "    else:\n",
    "        s_dict[i] += 1\n",
    "\n",
    "for k in s_dict:\n",
    "    if s_dict[k] == 1:\n",
    "        print(k)"
   ]
  },
  {
   "cell_type": "markdown",
   "metadata": {},
   "source": [
    "### Check Subset"
   ]
  },
  {
   "cell_type": "code",
   "execution_count": null,
   "metadata": {},
   "outputs": [],
   "source": [
    "T = int(input())\n",
    "\n",
    "for _ in range(T):\n",
    "    input() # Not needed\n",
    "    A = set(map(int, input().split()))\n",
    "    input() # Not needed\n",
    "    B = set(map(int, input().split()))\n",
    "\n",
    "    cnt = 0\n",
    "    for i in A:\n",
    "        if i in B:\n",
    "            cnt += 1\n",
    "    \n",
    "    print(cnt == len(A))\n"
   ]
  },
  {
   "cell_type": "markdown",
   "metadata": {},
   "source": [
    "### Check Strict Superset"
   ]
  },
  {
   "cell_type": "code",
   "execution_count": null,
   "metadata": {},
   "outputs": [],
   "source": [
    "A = set(map(int, input().split()))\n",
    "\n",
    "n = int(input())\n",
    "\n",
    "is_strict_superset = True\n",
    "for _ in range(n):\n",
    "    B = set(map(int, input().split()))\n",
    "\n",
    "    if not (A > B):\n",
    "        is_strict_superset = False\n",
    "\n",
    "print(is_strict_superset)\n",
    "    "
   ]
  }
 ],
 "metadata": {
  "language_info": {
   "name": "python"
  }
 },
 "nbformat": 4,
 "nbformat_minor": 2
}
