{
 "cells": [
  {
   "cell_type": "markdown",
   "metadata": {},
   "source": [
    "### sWAP cASE"
   ]
  },
  {
   "cell_type": "code",
   "execution_count": null,
   "metadata": {},
   "outputs": [],
   "source": [
    "s = input()\n",
    "swapped_case = list()\n",
    "\n",
    "for letter in s:\n",
    "    if letter.islower(): # lowercase\n",
    "        letter = letter.upper()\n",
    "    elif letter.isupper(): # uppercase\n",
    "        letter = letter.lower()\n",
    "    swapped_case.append(letter)\n",
    "\n",
    "print(''.join(swapped_case))"
   ]
  },
  {
   "cell_type": "markdown",
   "metadata": {},
   "source": [
    "### String Split and Join"
   ]
  },
  {
   "cell_type": "code",
   "execution_count": null,
   "metadata": {},
   "outputs": [],
   "source": [
    "s = input().strip().split()\n",
    "\n",
    "print('-'.join(s))"
   ]
  },
  {
   "cell_type": "markdown",
   "metadata": {},
   "source": [
    "### What's Your Name?"
   ]
  },
  {
   "cell_type": "code",
   "execution_count": null,
   "metadata": {},
   "outputs": [],
   "source": [
    "f_name = input()\n",
    "l_name = input()\n",
    "    \n",
    "print(f\"Hello {f_name} {l_name}! You just delved into python.\")   "
   ]
  },
  {
   "cell_type": "markdown",
   "metadata": {},
   "source": [
    "### Mutations"
   ]
  },
  {
   "cell_type": "code",
   "execution_count": null,
   "metadata": {},
   "outputs": [],
   "source": [
    "s = input().strip()\n",
    "i, ele = input().split()\n",
    "\n",
    "print(s[:int(i)] + ele + s[int(i)+1:])"
   ]
  },
  {
   "cell_type": "markdown",
   "metadata": {},
   "source": [
    "### Find a string"
   ]
  },
  {
   "cell_type": "code",
   "execution_count": null,
   "metadata": {},
   "outputs": [],
   "source": [
    "string = input().strip()\n",
    "sub_string = input().strip()\n",
    "\n",
    "cnt = 0\n",
    "for i in range(len(string) - (len(sub_string) - 1)):\n",
    "    if string[i:i+len(sub_string)] == sub_string:\n",
    "        cnt += 1\n",
    "\n",
    "print(cnt)"
   ]
  },
  {
   "cell_type": "markdown",
   "metadata": {},
   "source": [
    "### String Validators"
   ]
  },
  {
   "cell_type": "code",
   "execution_count": null,
   "metadata": {},
   "outputs": [],
   "source": [
    "S = input()\n",
    "\n",
    "print(any(ele.isalnum() for ele in S))\n",
    "print(any(ele.isalpha() for ele in S))\n",
    "print(any(ele.isdigit() for ele in S))\n",
    "print(any(ele.islower() for ele in S))\n",
    "print(any(ele.isupper() for ele in S))"
   ]
  },
  {
   "cell_type": "markdown",
   "metadata": {},
   "source": [
    "### Capitalize!"
   ]
  },
  {
   "cell_type": "code",
   "execution_count": null,
   "metadata": {},
   "outputs": [],
   "source": [
    "s = input()\n",
    "\n",
    "print(' '.join([c.capitalize() for c in s.split(\" \")]))"
   ]
  },
  {
   "cell_type": "markdown",
   "metadata": {},
   "source": [
    "### String Formatting"
   ]
  },
  {
   "cell_type": "code",
   "execution_count": null,
   "metadata": {},
   "outputs": [],
   "source": [
    "number = int(input())\n",
    "\n",
    "width = len(bin(number)) - 2\n",
    "\n",
    "for n in range(1, number+1):\n",
    "   decimal = str(n)\n",
    "   octal = oct(n)[2:]\n",
    "   hexa = hex(n)[2:].upper()\n",
    "   binary = bin(n)[2:]\n",
    "\n",
    "   print(f\"{decimal:>{width}} {octal:>{width}} {hexa:>{width}} {binary:>{width}}\")"
   ]
  },
  {
   "cell_type": "markdown",
   "metadata": {},
   "source": [
    "### Text Wrap"
   ]
  },
  {
   "cell_type": "code",
   "execution_count": null,
   "metadata": {},
   "outputs": [],
   "source": [
    "string = input()\n",
    "max_width = int(input())\n",
    "\n",
    "outputs = []\n",
    "for i in range(0, len(string), max_width):\n",
    "    outputs.append(string[i:i+max_width])\n",
    "\n",
    "print('\\n'.join(outputs))"
   ]
  }
 ],
 "metadata": {
  "language_info": {
   "name": "python"
  }
 },
 "nbformat": 4,
 "nbformat_minor": 2
}
