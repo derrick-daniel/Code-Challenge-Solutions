{
 "cells": [
  {
   "cell_type": "markdown",
   "metadata": {},
   "source": [
    "### sWAP cASE"
   ]
  },
  {
   "cell_type": "code",
   "execution_count": null,
   "metadata": {},
   "outputs": [],
   "source": [
    "s = input()\n",
    "swapped_case = list()\n",
    "\n",
    "for letter in s:\n",
    "    if letter.islower(): # lowercase\n",
    "        letter = letter.upper()\n",
    "    elif letter.isupper(): # uppercase\n",
    "        letter = letter.lower()\n",
    "    swapped_case.append(letter)\n",
    "\n",
    "print(''.join(swapped_case))"
   ]
  },
  {
   "cell_type": "markdown",
   "metadata": {},
   "source": [
    "### String Split and Join"
   ]
  },
  {
   "cell_type": "code",
   "execution_count": null,
   "metadata": {},
   "outputs": [],
   "source": [
    "s = input().strip().split()\n",
    "\n",
    "print('-'.join(s))"
   ]
  },
  {
   "cell_type": "markdown",
   "metadata": {},
   "source": [
    "### What's Your Name?"
   ]
  },
  {
   "cell_type": "code",
   "execution_count": null,
   "metadata": {},
   "outputs": [],
   "source": [
    "f_name = input()\n",
    "l_name = input()\n",
    "    \n",
    "print(f\"Hello {f_name} {l_name}! You just delved into python.\")   "
   ]
  },
  {
   "cell_type": "markdown",
   "metadata": {},
   "source": [
    "### Mutations"
   ]
  },
  {
   "cell_type": "code",
   "execution_count": null,
   "metadata": {},
   "outputs": [],
   "source": [
    "s = input().strip()\n",
    "i, ele = input().split()\n",
    "\n",
    "print(s[:int(i)] + ele + s[int(i)+1:])"
   ]
  },
  {
   "cell_type": "markdown",
   "metadata": {},
   "source": [
    "### Find a string"
   ]
  },
  {
   "cell_type": "code",
   "execution_count": 1,
   "metadata": {},
   "outputs": [
    {
     "name": "stdout",
     "output_type": "stream",
     "text": [
      "1\n"
     ]
    }
   ],
   "source": [
    "string = input().strip()\n",
    "sub_string = input().strip()\n",
    "\n",
    "string_length = len(string)\n",
    "sub_string_length = len(sub_string)\n",
    "cnt = 0\n",
    "for i in range(string_length - (sub_string_length - 1)):\n",
    "    if string[i:i+sub_string_length] == sub_string:\n",
    "        cnt += 1\n",
    "\n",
    "print(cnt)"
   ]
  },
  {
   "cell_type": "markdown",
   "metadata": {},
   "source": [
    "### String Validators"
   ]
  },
  {
   "cell_type": "code",
   "execution_count": null,
   "metadata": {},
   "outputs": [],
   "source": [
    "S = input()\n",
    "\n",
    "print(any(ele.isalnum() for ele in S))\n",
    "print(any(ele.isalpha() for ele in S))\n",
    "print(any(ele.isdigit() for ele in S))\n",
    "print(any(ele.islower() for ele in S))\n",
    "print(any(ele.isupper() for ele in S))"
   ]
  },
  {
   "cell_type": "markdown",
   "metadata": {},
   "source": [
    "### Capitalize!"
   ]
  },
  {
   "cell_type": "code",
   "execution_count": null,
   "metadata": {},
   "outputs": [],
   "source": [
    "s = input()\n",
    "\n",
    "print(' '.join([c.capitalize() for c in s.split(\" \")]))"
   ]
  },
  {
   "cell_type": "markdown",
   "metadata": {},
   "source": [
    "### String Formatting"
   ]
  },
  {
   "cell_type": "code",
   "execution_count": null,
   "metadata": {},
   "outputs": [],
   "source": [
    "number = int(input())\n",
    "\n",
    "# removing the length of the '0b' prefix, giving the number of \n",
    "# binary digits of the highest number for alingment purposes.\n",
    "width = len(bin(number)[2:])\n",
    "\n",
    "for n in range(1, number+1):\n",
    "   decimal = str(n)\n",
    "   octal = oct(n)[2:]\n",
    "   hexa = hex(n)[2:].upper()\n",
    "   binary = bin(n)[2:]\n",
    "\n",
    "   # `>{width}`` to ensure all numbers are right-aligned \n",
    "   # based on the maximum width of the binary representation of number\n",
    "   print(f\"{decimal:>{width}} {octal:>{width}} {hexa:>{width}} {binary:>{width}}\")\n",
    "   "
   ]
  },
  {
   "cell_type": "markdown",
   "metadata": {},
   "source": [
    "### Text Wrap"
   ]
  },
  {
   "cell_type": "code",
   "execution_count": null,
   "metadata": {},
   "outputs": [],
   "source": [
    "string = input()\n",
    "max_width = int(input())\n",
    "\n",
    "outputs = []\n",
    "for i in range(0, len(string), max_width):\n",
    "    outputs.append(string[i:i+max_width])\n",
    "\n",
    "print('\\n'.join(outputs))"
   ]
  },
  {
   "cell_type": "markdown",
   "metadata": {},
   "source": [
    "### Merge the Tools!"
   ]
  },
  {
   "cell_type": "code",
   "execution_count": null,
   "metadata": {},
   "outputs": [],
   "source": [
    "s = input()\n",
    "k = int(input())\n",
    "\n",
    "for i in range(0, len(s), k):\n",
    "    sub_str = s[i:i+k]\n",
    "    li = []\n",
    "    for i in sub_str:\n",
    "        if i not in li: # O(n)\n",
    "            li.append(i)\n",
    "\n",
    "    print(''.join(li))"
   ]
  }
 ],
 "metadata": {
  "kernelspec": {
   "display_name": "Python 3",
   "language": "python",
   "name": "python3"
  },
  "language_info": {
   "codemirror_mode": {
    "name": "ipython",
    "version": 3
   },
   "file_extension": ".py",
   "mimetype": "text/x-python",
   "name": "python",
   "nbconvert_exporter": "python",
   "pygments_lexer": "ipython3",
   "version": "3.12.3"
  }
 },
 "nbformat": 4,
 "nbformat_minor": 2
}
