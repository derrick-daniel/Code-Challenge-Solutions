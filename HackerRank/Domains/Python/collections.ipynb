{
 "cells": [
  {
   "cell_type": "markdown",
   "metadata": {},
   "source": [
    "### Collections.Counter()"
   ]
  },
  {
   "cell_type": "code",
   "execution_count": null,
   "metadata": {},
   "outputs": [],
   "source": [
    "from collections import Counter\n",
    "\n",
    "input() # Read and ignore\n",
    "shoe_sizes = Counter(map(int, input().split()))\n",
    "N = int(input())\n",
    "\n",
    "earnings = 0\n",
    "for _ in range(N):\n",
    "    shoe_size, price = list(map(int, input().split()))\n",
    "    if (shoe_size in shoe_sizes) and (shoe_sizes[shoe_size] != 0):\n",
    "        shoe_sizes[shoe_size] -= 1\n",
    "        earnings += price\n",
    "\n",
    "print(earnings)"
   ]
  },
  {
   "cell_type": "markdown",
   "metadata": {},
   "source": [
    "### Collections.DefaultDict()"
   ]
  },
  {
   "cell_type": "code",
   "execution_count": null,
   "metadata": {},
   "outputs": [],
   "source": [
    "from collections import defaultdict\n",
    "\n",
    "n, m = map(int, input().split())\n",
    "A = [input().strip() for i in range(n)]\n",
    "B = [input().strip() for i in range(m)]\n",
    "\n",
    "a = defaultdict(list)\n",
    "for index, ele in enumerate(A):\n",
    "    a[ele].append(index + 1)\n",
    "\n",
    "for ele in B:\n",
    "    if ele in a:\n",
    "        print(\" \".join(str(x) for x in a[ele]))\n",
    "    else:\n",
    "        print(\"-1\")"
   ]
  },
  {
   "cell_type": "markdown",
   "metadata": {},
   "source": [
    "### Collections.namedtuple()"
   ]
  },
  {
   "cell_type": "markdown",
   "metadata": {},
   "source": [
    "- [Collections.namedtuple()](https://docs.python.org/3/library/collections.html#collections.namedtuple)"
   ]
  },
  {
   "cell_type": "code",
   "execution_count": null,
   "metadata": {},
   "outputs": [],
   "source": [
    "from collections import namedtuple\n",
    "\n",
    "n = int(input())\n",
    "fields = input()\n",
    "Students = namedtuple('Students', fields)\n",
    "\n",
    "# Method-1\n",
    "total_marks = 0\n",
    "for _ in range(n):\n",
    "    student = Students(*(input().split()))\n",
    "    total_marks += int(student.MARKS)\n",
    "\n",
    "print(round(total_marks / n, 2)) # OR print(f\"{total_marks / n:.2f}\")\n",
    "\n",
    "# Method-2 (One-liner)\n",
    "print(round(sum(int(Students(*input().split()).MARKS) for _ in range(n)) / n, 2))"
   ]
  },
  {
   "cell_type": "markdown",
   "metadata": {},
   "source": [
    "### Collections.OrderedDict()"
   ]
  },
  {
   "cell_type": "markdown",
   "metadata": {},
   "source": [
    "- [Collections.OrderedDict()](https://docs.python.org/2/library/collections.html#collections.OrderedDict)\n",
    "- An OrderedDict is a dictionary that remembers the order of the keys that were inserted first. \n",
    "    - If a new entry overwrites an existing entry, the original insertion position is left unchanged."
   ]
  },
  {
   "cell_type": "code",
   "execution_count": null,
   "metadata": {},
   "outputs": [],
   "source": [
    "from collections import OrderedDict\n",
    "\n",
    "n = int(input())\n",
    "\n",
    "# Method-1\n",
    "d = OrderedDict()\n",
    "for _ in range(n):\n",
    "    i = input().split()\n",
    "    item_name, net_price = ' '.join(i[:-1]), int(i[-1])\n",
    "    if item_name in d.keys():\n",
    "        d[item_name] += net_price\n",
    "    else:\n",
    "        d[item_name] = net_price\n",
    "\n",
    "print(*(' '.join((k, str(v))) for k, v in d.items()), sep='\\n')\n"
   ]
  },
  {
   "cell_type": "code",
   "execution_count": null,
   "metadata": {},
   "outputs": [],
   "source": [
    "from collections import OrderedDict\n",
    "\n",
    "n = int(input())\n",
    "\n",
    "# Method-2 (Clean version)\n",
    "d = OrderedDict()\n",
    "for _ in range(n):\n",
    "    item_name, net_price = input().rstrip().rsplit(' ', 1) \n",
    "    d[item_name] = d.get(item_name, 0) + int(net_price)\n",
    "\n",
    "for item_name, net_price in d.items():\n",
    "    print(f\"{item_name} {net_price}\")"
   ]
  },
  {
   "cell_type": "markdown",
   "metadata": {},
   "source": [
    "### Collections.deque()"
   ]
  },
  {
   "cell_type": "markdown",
   "metadata": {},
   "source": [
    "- [Collections.deque()](https://docs.python.org/3.12/library/collections.html#collections.deque)"
   ]
  },
  {
   "cell_type": "code",
   "execution_count": null,
   "metadata": {},
   "outputs": [],
   "source": [
    "from collections import deque\n",
    "\n",
    "N = int(input())\n",
    "\n",
    "d = deque()\n",
    "for _ in range(N):\n",
    "    parts = input().split()\n",
    "    \n",
    "    if parts[0] == 'append':\n",
    "        d.append(int(parts[1]))\n",
    "    elif parts[0] == 'appendleft':\n",
    "        d.appendleft(int(parts[1]))\n",
    "    elif parts[0] == 'pop':\n",
    "        d.pop()\n",
    "    elif parts[0] == 'popleft':\n",
    "        d.popleft()\n",
    "\n",
    "print(*d)"
   ]
  }
 ],
 "metadata": {
  "language_info": {
   "name": "python"
  }
 },
 "nbformat": 4,
 "nbformat_minor": 2
}
