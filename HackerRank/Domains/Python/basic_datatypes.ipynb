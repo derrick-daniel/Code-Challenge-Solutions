{
 "cells": [
  {
   "cell_type": "markdown",
   "metadata": {},
   "source": [
    "### Lists"
   ]
  },
  {
   "cell_type": "code",
   "execution_count": null,
   "metadata": {},
   "outputs": [],
   "source": [
    "import sys\n",
    "\n",
    "input = sys.stdin.read\n",
    "data = input().splitlines()\n",
    "\n",
    "n = int(data[0])\n",
    "\n",
    "my_list = list()\n",
    "for i in range(1, n+1):\n",
    "    command = data[i].split()\n",
    "    op = command[0]\n",
    "\n",
    "    if op == 'insert':\n",
    "        i, ele = map(int, command[1:])\n",
    "        my_list.insert(i, ele)\n",
    "    \n",
    "    elif op == \"append\":\n",
    "        ele = int(command[1])\n",
    "        my_list.append(ele)\n",
    "    \n",
    "    elif op == \"remove\":\n",
    "        ele = int(command[1])\n",
    "        my_list.remove(ele)\n",
    "\n",
    "    elif op == \"pop\":\n",
    "        my_list.pop()\n",
    "    \n",
    "    elif op == \"sort\":\n",
    "        my_list.sort()\n",
    "\n",
    "    elif op == \"reverse\":\n",
    "        my_list.reverse()\n",
    "\n",
    "    elif op == \"print\":\n",
    "        print(my_list)\n"
   ]
  },
  {
   "cell_type": "markdown",
   "metadata": {},
   "source": [
    "### Tuples"
   ]
  },
  {
   "cell_type": "code",
   "execution_count": null,
   "metadata": {},
   "outputs": [],
   "source": [
    "# NOTE: use `pypy3`\n",
    "\n",
    "input() # n\n",
    "t = tuple(map(int, input().split()))\n",
    "\n",
    "print(hash(t))\n"
   ]
  },
  {
   "cell_type": "markdown",
   "metadata": {},
   "source": [
    "### List Comprehensions"
   ]
  },
  {
   "cell_type": "code",
   "execution_count": null,
   "metadata": {},
   "outputs": [],
   "source": [
    "x = int(input())\n",
    "y = int(input())\n",
    "z = int(input())\n",
    "n = int(input())\n",
    "\n",
    "all_permutations = [[i, j, k] for i in range(x+1) for j in range(y+1) for k in range(z+1)]\n",
    "\n",
    "print([permutations for permutations in all_permutations if sum(permutations) != n])"
   ]
  },
  {
   "cell_type": "markdown",
   "metadata": {},
   "source": [
    "### Find the Runner-Up Score!"
   ]
  },
  {
   "cell_type": "code",
   "execution_count": null,
   "metadata": {},
   "outputs": [],
   "source": [
    "input()\n",
    "A = set(map(int, input().split()))\n",
    "\n",
    "if len(A) > 1:\n",
    "    print(sorted(A)[-2])\n",
    "else:\n",
    "    print(A)"
   ]
  },
  {
   "cell_type": "markdown",
   "metadata": {},
   "source": [
    "### Nested Lists"
   ]
  },
  {
   "cell_type": "code",
   "execution_count": null,
   "metadata": {},
   "outputs": [],
   "source": [
    "from operator import itemgetter\n",
    "\n",
    "N = int(input())\n",
    "\n",
    "records = [0]*N\n",
    "grade_set = set()\n",
    "for i in range(N):\n",
    "    name = input().strip()\n",
    "    grade = float(input().strip())\n",
    "    grade_set.add(grade)\n",
    "    records[i] = [name, grade]\n",
    "\n",
    "records.sort(key=itemgetter(1, 0)) # Sorts by `grade` then by `name`\n",
    "\n",
    "second_lowest_grade = sorted(grade_set)[1]\n",
    "\n",
    "for record in records:\n",
    "    if record[1] == second_lowest_grade:\n",
    "        print(record[0])"
   ]
  },
  {
   "cell_type": "markdown",
   "metadata": {},
   "source": [
    "### Finding the percentage"
   ]
  },
  {
   "cell_type": "code",
   "execution_count": null,
   "metadata": {},
   "outputs": [],
   "source": [
    "n = int(input())\n",
    "\n",
    "students = dict()\n",
    "for _ in range(n):\n",
    "    student = input().split()\n",
    "    name = student[0]\n",
    "    marks = list(map(float, student[1:]))\n",
    "    students[name] = marks\n",
    "\n",
    "query = input()\n",
    "\n",
    "avg_mark = sum(students[query]) / len(students[query])\n",
    "\n",
    "print(f\"{avg_mark:.2f}\")\n"
   ]
  }
 ],
 "metadata": {
  "kernelspec": {
   "display_name": "Python 3",
   "language": "python",
   "name": "python3"
  },
  "language_info": {
   "name": "python",
   "version": "3.12.3"
  }
 },
 "nbformat": 4,
 "nbformat_minor": 2
}
