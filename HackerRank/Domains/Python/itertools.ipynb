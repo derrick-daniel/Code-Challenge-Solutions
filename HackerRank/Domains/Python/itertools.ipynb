{
 "cells": [
  {
   "cell_type": "markdown",
   "metadata": {},
   "source": [
    "### itertools.product()"
   ]
  },
  {
   "cell_type": "markdown",
   "metadata": {},
   "source": [
    "- [itertools.product()](https://docs.python.org/2/library/itertools.html#itertools.product)"
   ]
  },
  {
   "cell_type": "code",
   "execution_count": null,
   "metadata": {},
   "outputs": [],
   "source": [
    "from itertools import product\n",
    "# Examples:\n",
    "## product('ABCD', 'xy') --> Ax Ay Bx By Cx Cy Dx Dy\n",
    "## product(range(2), repeat=3) --> 000 001 010 011 100 101 110 111\n",
    "\n",
    "A = list(map(int, input().split()))\n",
    "B = list(map(int, input().split()))\n",
    "\n",
    "print(' '.join([str(i) for i in list(product(A, B))]))"
   ]
  },
  {
   "cell_type": "markdown",
   "metadata": {},
   "source": [
    "### itertools.permutations()"
   ]
  },
  {
   "cell_type": "markdown",
   "metadata": {},
   "source": [
    "- [itertools.permutations()](https://docs.python.org/2/library/itertools.html#itertools.permutations)\n",
    "- NOTE: \n",
    "    - Permutations are emitted in lexicographic sort order. \n",
    "    - So, if the input iterable is sorted, the combination tuples will be produced in sorted order."
   ]
  },
  {
   "cell_type": "code",
   "execution_count": null,
   "metadata": {},
   "outputs": [],
   "source": [
    "from itertools import permutations\n",
    "# Examples:\n",
    "## permutations('ABCD', 2) --> AB AC AD BA BC BD CA CB CD DA DB DC\n",
    "## permutations(range(3)) --> 012 021 102 120 201 210\n",
    "\n",
    "S, k = input().split()\n",
    "\n",
    "# Method 1\n",
    "perms = permutations(sorted(S), int(k))\n",
    "\n",
    "for i in perms:\n",
    "    print(''.join(i))\n",
    "\n",
    "# Method 2\n",
    "print(*(''.join(p) for p in sorted(permutations(S, int(k)))), sep='\\n')"
   ]
  },
  {
   "cell_type": "markdown",
   "metadata": {},
   "source": [
    "### itertools.combinations()"
   ]
  },
  {
   "cell_type": "markdown",
   "metadata": {},
   "source": [
    "- [itertools.combinations()](https://docs.python.org/2/library/itertools.html#itertools.combinations)"
   ]
  },
  {
   "cell_type": "code",
   "execution_count": null,
   "metadata": {},
   "outputs": [],
   "source": [
    "from itertools import combinations\n",
    "\n",
    "S, k = input().split()\n",
    "\n",
    "for i in range(1, int(k)+1):\n",
    "    print(*(''.join(p) for p in sorted(combinations(sorted(S), i))), sep='\\n')"
   ]
  }
 ],
 "metadata": {
  "language_info": {
   "name": "python"
  }
 },
 "nbformat": 4,
 "nbformat_minor": 2
}
