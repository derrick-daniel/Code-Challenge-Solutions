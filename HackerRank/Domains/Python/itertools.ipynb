{
 "cells": [
  {
   "cell_type": "markdown",
   "metadata": {},
   "source": [
    "### itertools.product()"
   ]
  },
  {
   "cell_type": "markdown",
   "metadata": {},
   "source": [
    "- [itertools.product()](https://docs.python.org/2/library/itertools.html#itertools.product)"
   ]
  },
  {
   "cell_type": "code",
   "execution_count": null,
   "metadata": {},
   "outputs": [],
   "source": [
    "from itertools import product\n",
    "# Examples:\n",
    "## product('ABCD', 'xy') --> Ax Ay Bx By Cx Cy Dx Dy\n",
    "## product(range(2), repeat=3) --> 000 001 010 011 100 101 110 111\n",
    "\n",
    "A = list(map(int, input().split()))\n",
    "B = list(map(int, input().split()))\n",
    "\n",
    "print(' '.join([str(i) for i in list(product(A, B))]))"
   ]
  },
  {
   "cell_type": "markdown",
   "metadata": {},
   "source": [
    "### Permutations and Combinations"
   ]
  },
  {
   "cell_type": "markdown",
   "metadata": {},
   "source": [
    "<img src=\"./Misc/permutations_and_combinations.png\" width=\"400\">\n",
    "<img src=\"./Misc/Permutations-and-Combinations-2.webp\" width=\"400\">"
   ]
  },
  {
   "cell_type": "markdown",
   "metadata": {},
   "source": [
    "#### itertools.permutations()"
   ]
  },
  {
   "cell_type": "markdown",
   "metadata": {},
   "source": [
    "- [itertools.permutations()](https://docs.python.org/2/library/itertools.html#itertools.permutations)\n",
    "- NOTE: \n",
    "    - Permutations are emitted in lexicographic sort order. \n",
    "    - So, if the input iterable is sorted, the combination tuples will be produced in sorted order."
   ]
  },
  {
   "cell_type": "code",
   "execution_count": null,
   "metadata": {},
   "outputs": [],
   "source": [
    "from itertools import permutations\n",
    "# Examples:\n",
    "## permutations('ABCD', 2) --> AB AC AD BA BC BD CA CB CD DA DB DC\n",
    "## permutations(range(3)) --> 012 021 102 120 201 210\n",
    "\n",
    "S, k = input().split()\n",
    "\n",
    "# Method 1\n",
    "perms = permutations(sorted(S), int(k))\n",
    "\n",
    "for i in perms:\n",
    "    print(''.join(i))\n",
    "\n",
    "# Method 2\n",
    "print(*(''.join(p) for p in permutations(sorted(S), int(k))), sep='\\n')"
   ]
  },
  {
   "cell_type": "markdown",
   "metadata": {},
   "source": [
    "#### itertools.combinations()"
   ]
  },
  {
   "cell_type": "markdown",
   "metadata": {},
   "source": [
    "- [itertools.combinations()](https://docs.python.org/2/library/itertools.html#itertools.combinations)"
   ]
  },
  {
   "cell_type": "code",
   "execution_count": null,
   "metadata": {},
   "outputs": [],
   "source": [
    "from itertools import combinations\n",
    "# Examples:\n",
    "## combinations('ABCD', 2) --> AB AC AD BC BD CD\n",
    "## combinations(range(4), 3) --> 012 013 023 123\n",
    "\n",
    "S, k = input().split()\n",
    "\n",
    "for i in range(1, int(k)+1):\n",
    "    print(*(''.join(p) for p in combinations(sorted(S), i)), sep='\\n')"
   ]
  },
  {
   "cell_type": "markdown",
   "metadata": {},
   "source": [
    "#### itertools.combinations_with_replacement()"
   ]
  },
  {
   "cell_type": "markdown",
   "metadata": {},
   "source": [
    "NOTE:  Repetition/Replacement allows individual elements to be repeated more than once."
   ]
  },
  {
   "cell_type": "code",
   "execution_count": null,
   "metadata": {},
   "outputs": [],
   "source": [
    "from itertools import combinations_with_replacement\n",
    "\n",
    "S, k = input().split()\n",
    "\n",
    "print(*(''.join(i) for i in combinations_with_replacement(sorted(S), int(k))), sep=\"\\n\")\n"
   ]
  },
  {
   "cell_type": "markdown",
   "metadata": {},
   "source": [
    "### Compress the String!"
   ]
  },
  {
   "cell_type": "markdown",
   "metadata": {},
   "source": [
    "- [itertools.groupby()](https://docs.python.org/3/library/itertools.html#itertools.groupby)\n",
    "    - To group consecutive elements of the same value (keys) in an iterable object, such as a list."
   ]
  },
  {
   "cell_type": "code",
   "execution_count": null,
   "metadata": {},
   "outputs": [],
   "source": [
    "from itertools import groupby\n",
    "\n",
    "S = list(map(int, input()))\n",
    "\n",
    "print(*((len(list(g)), k) for k, g in groupby(S)))"
   ]
  },
  {
   "cell_type": "markdown",
   "metadata": {},
   "source": [
    "### Iterables and Iterators"
   ]
  },
  {
   "cell_type": "code",
   "execution_count": null,
   "metadata": {},
   "outputs": [],
   "source": [
    "from itertools import combinations\n",
    "\n",
    "input() # Read and ignore\n",
    "L  = input().split()\n",
    "K = int(input())\n",
    "\n",
    "total_outcomes = list(combinations(L, K))\n",
    "favourable_outcomes = sum(1 for combo in total_outcomes if 'a' in combo)\n",
    "\n",
    "print(round(favourable_outcomes/ len(total_outcomes), 3))"
   ]
  },
  {
   "cell_type": "markdown",
   "metadata": {},
   "source": [
    "### Maximize It! - `Incomplete`"
   ]
  },
  {
   "cell_type": "markdown",
   "metadata": {},
   "source": [
    "- Failing test cases: 10, 12, 14 and 15"
   ]
  },
  {
   "cell_type": "code",
   "execution_count": null,
   "metadata": {},
   "outputs": [],
   "source": [
    "from itertools import product\n",
    "\n",
    "K, M = list(map(int, input().split()))\n",
    "\n",
    "I = []\n",
    "for _ in range(K):\n",
    "    I.append(list(map(int, input().split())))\n",
    "\n",
    "S = []\n",
    "for combo in product(*I):\n",
    "    S.append(sum(i**2 for i in combo) % M)\n",
    "\n",
    "print(max(S))\n"
   ]
  }
 ],
 "metadata": {
  "language_info": {
   "name": "python"
  }
 },
 "nbformat": 4,
 "nbformat_minor": 2
}
