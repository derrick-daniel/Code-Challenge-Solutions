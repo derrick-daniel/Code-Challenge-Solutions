{
 "cells": [
  {
   "cell_type": "markdown",
   "metadata": {},
   "source": [
    "### Arrays - DS"
   ]
  },
  {
   "cell_type": "code",
   "execution_count": null,
   "metadata": {},
   "outputs": [],
   "source": [
    "input() # Read and ignore\n",
    "A = list(map(int, input().split()))\n",
    "\n",
    "for i in range(len(A),0,-1):\n",
    "    print(A[i-1], end=\" \")"
   ]
  },
  {
   "cell_type": "markdown",
   "metadata": {},
   "source": [
    "### 2D Arrays - DS"
   ]
  },
  {
   "cell_type": "code",
   "execution_count": null,
   "metadata": {},
   "outputs": [],
   "source": [
    "dim = 6 # Constraint: 0 <= i,j <= 5\n",
    "arr = []\n",
    "for _ in range(dim): # Constraint: 0 <= i,j <= 5\n",
    "    arr.append(list(map(int, input().split())))\n",
    "\n",
    "\n",
    "hourglass_sums = []\n",
    "# There are only 4 (dim-2) hourglasses in each row and column in a 6x6 (dim=6) matrix\n",
    "n_hourglasses = dim - 2\n",
    "for i in range(n_hourglasses):\n",
    "    for j in range(n_hourglasses):\n",
    "        hourglass_sums.append(\n",
    "            sum([\n",
    "                arr[i][j], arr[i][j+1], arr[i][j+2],\n",
    "                        arr[i+1][j+1],\n",
    "                arr[i+2][j], arr[i+2][j+1], arr[i+2][j+2]\n",
    "            ])\n",
    "        )\n",
    "\n",
    "print(max(hourglass_sums))"
   ]
  },
  {
   "cell_type": "code",
   "execution_count": null,
   "metadata": {},
   "outputs": [],
   "source": [
    "dim = 6 # Constraint: 0 <= i,j <= 5\n",
    "arr = []\n",
    "for _ in range(dim): # Constraint: 0 <= i,j <= 5\n",
    "    arr.append(list(map(int, input().split())))\n",
    "\n",
    "\n",
    "hourglass_sums = []\n",
    "# There are only 4 (dim-2) hourglasses in each row and column in a 6x6 (dim=6) matrix\n",
    "n_hourglasses = dim - 2\n",
    "for i in range(n_hourglasses):\n",
    "    for j in range(n_hourglasses):\n",
    "        hourglass_sums.append(\n",
    "            sum([\n",
    "                sum(arr[i][j:j+3]), # top\n",
    "                arr[i+1][j+1], # middle\n",
    "                sum(arr[i+2][j:j+3]) # bottom\n",
    "            ])\n",
    "        )\n",
    "print(max(hourglass_sums))"
   ]
  },
  {
   "cell_type": "markdown",
   "metadata": {},
   "source": [
    "### Dynamic Array"
   ]
  },
  {
   "cell_type": "code",
   "execution_count": null,
   "metadata": {},
   "outputs": [],
   "source": [
    "n, q = map(int, input().split())\n",
    "\n",
    "arr = [[] for _ in range(n)]\n",
    "\n",
    "lastAnswer = 0\n",
    "for _ in range(q):\n",
    "    q_type, x, y = map(int, input().split())\n",
    "    \n",
    "    idx = (x ^ lastAnswer) % n\n",
    "    \n",
    "    if q_type == 1: # Type 1\n",
    "        arr[idx].append(y)\n",
    "    elif q_type == 2: # Type 2\n",
    "        lastAnswer = arr[idx][y % len(arr[idx])]\n",
    "        print(lastAnswer)"
   ]
  },
  {
   "cell_type": "markdown",
   "metadata": {},
   "source": [
    "### Left Rotation"
   ]
  },
  {
   "cell_type": "code",
   "execution_count": null,
   "metadata": {},
   "outputs": [],
   "source": [
    "n, d = map(int, input().split())\n",
    "arr = list(map(int, input().split()))\n",
    "\n",
    "# Handle larger-than-n rotations\n",
    "# !!!NO NEED!!!, Since constraint 1 <= d <= n\n",
    "\"\"\" \n",
    "if d >= n:\n",
    "    d = d % n \n",
    "\"\"\"\n",
    "# Using modulo ensures that if d is a multiple of n \n",
    "# or larger, it's reduced to a number less than n, \n",
    "# which is the actual number of necessary moves.\n",
    "\n",
    "left_cut, right_cut = arr[:d], arr[d:]\n",
    "print(*(right_cut + left_cut))\n"
   ]
  },
  {
   "cell_type": "markdown",
   "metadata": {},
   "source": [
    "The result of the modulo operation, d % n, is always a number from 0 to n-1. This is particularly useful in programming and mathematical contexts where a \"wrap-around\" effect is needed, such as:\n",
    "\n",
    "- Array indexing in circular arrays or circular lists where you need to wrap around to the beginning after reaching the end.\n",
    "- Implementing cyclic data structures or algorithms like the left rotation of an array."
   ]
  },
  {
   "cell_type": "markdown",
   "metadata": {},
   "source": [
    "### Sparse Arrays"
   ]
  },
  {
   "cell_type": "code",
   "execution_count": null,
   "metadata": {},
   "outputs": [],
   "source": [
    "n = int(input())\n",
    "\n",
    "stringList = []\n",
    "for _ in range(n):\n",
    "    stringList.append(input().strip())\n",
    "\n",
    "m = int(input())\n",
    "\n",
    "queries = []\n",
    "for _ in range(m):\n",
    "    queries.append(input().strip())\n",
    "\n",
    "for q in queries:\n",
    "    q_counter = 0\n",
    "    for s in stringList:\n",
    "        if q == s:\n",
    "            q_counter += 1\n",
    "    print(q_counter)"
   ]
  },
  {
   "cell_type": "code",
   "execution_count": null,
   "metadata": {},
   "outputs": [],
   "source": [
    "n = int(input())\n",
    "\n",
    "# Constructing frequency dict\n",
    "stringDict = {}\n",
    "for _ in range(n):\n",
    "    ele = input().strip()\n",
    "    if ele in stringDict:\n",
    "        stringDict[ele] += 1\n",
    "    else:\n",
    "        stringDict[ele] = 1\n",
    "\n",
    "m = int(input())\n",
    "\n",
    "for _ in range(m):\n",
    "    query = input().strip()\n",
    "    if query in stringDict:\n",
    "        print(stringDict[query])\n",
    "    else: # It's not found in the stringList\n",
    "        print(0)"
   ]
  },
  {
   "cell_type": "markdown",
   "metadata": {},
   "source": [
    "Use of `get()` Method: \n",
    "- In the dictionary method, using get() is optimal as it allows you to provide a default value of 0 when the key isn't found, making the code more concise and removing the need for an if-else check."
   ]
  },
  {
   "cell_type": "code",
   "execution_count": null,
   "metadata": {},
   "outputs": [],
   "source": [
    "n = int(input())\n",
    "\n",
    "# Constructing frequency dict\n",
    "stringDict = {}\n",
    "for _ in range(n):\n",
    "    ele = input().strip()\n",
    "    stringDict[ele]  = stringDict.get(ele, 0) + 1\n",
    "\n",
    "m = int(input())\n",
    "\n",
    "for _ in range(m):\n",
    "    query = input().strip()\n",
    "    print(stringDict.get(query, 0))"
   ]
  },
  {
   "cell_type": "markdown",
   "metadata": {},
   "source": [
    "### Array Manipulation"
   ]
  },
  {
   "cell_type": "code",
   "execution_count": null,
   "metadata": {},
   "outputs": [],
   "source": []
  }
 ],
 "metadata": {
  "language_info": {
   "name": "python"
  }
 },
 "nbformat": 4,
 "nbformat_minor": 2
}
